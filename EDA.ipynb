{
  "nbformat": 4,
  "nbformat_minor": 0,
  "metadata": {
    "colab": {
      "name": "EDA.ipynb",
      "provenance": [],
      "authorship_tag": "ABX9TyPdgDUWYyhP/m9uPGGs9pPv",
      "include_colab_link": true
    },
    "kernelspec": {
      "name": "python3",
      "display_name": "Python 3"
    },
    "language_info": {
      "name": "python"
    }
  },
  "cells": [
    {
      "cell_type": "markdown",
      "metadata": {
        "id": "view-in-github",
        "colab_type": "text"
      },
      "source": [
        "<a href=\"https://colab.research.google.com/github/razalamb1/exploratory-analysis-book/blob/main/EDA.ipynb\" target=\"_parent\"><img src=\"https://colab.research.google.com/assets/colab-badge.svg\" alt=\"Open In Colab\"/></a>"
      ]
    },
    {
      "cell_type": "markdown",
      "metadata": {
        "id": "ijDZym1FRdeC"
      },
      "source": [
        "# Exploratory Analysis\n",
        "First, ingesting the book"
      ]
    },
    {
      "cell_type": "code",
      "metadata": {
        "colab": {
          "base_uri": "https://localhost:8080/"
        },
        "id": "WCpGLn_HPx0f",
        "outputId": "aad7cc86-1df5-48af-9a7a-db4200857ccf"
      },
      "source": [
        "!wget https://gutenberg.org/cache/epub/4367/pg4367.txt"
      ],
      "execution_count": 1,
      "outputs": [
        {
          "output_type": "stream",
          "name": "stdout",
          "text": [
            "--2021-09-17 01:02:20--  https://gutenberg.org/cache/epub/4367/pg4367.txt\n",
            "Resolving gutenberg.org (gutenberg.org)... 152.19.134.47, 2610:28:3090:3000:0:bad:cafe:47\n",
            "Connecting to gutenberg.org (gutenberg.org)|152.19.134.47|:443... connected.\n",
            "HTTP request sent, awaiting response... 200 OK\n",
            "Length: 1670765 (1.6M) [text/plain]\n",
            "Saving to: ‘pg4367.txt’\n",
            "\n",
            "pg4367.txt          100%[===================>]   1.59M  3.96MB/s    in 0.4s    \n",
            "\n",
            "2021-09-17 01:02:21 (3.96 MB/s) - ‘pg4367.txt’ saved [1670765/1670765]\n",
            "\n"
          ]
        }
      ]
    },
    {
      "cell_type": "code",
      "metadata": {
        "colab": {
          "base_uri": "https://localhost:8080/"
        },
        "id": "D_1Kfl6oR2er",
        "outputId": "562bc3a7-a4ed-48ed-e139-e4d44796e4d2"
      },
      "source": [
        "! tail pg4367.txt"
      ],
      "execution_count": 4,
      "outputs": [
        {
          "output_type": "stream",
          "name": "stdout",
          "text": [
            "example an eBook of filename 10234 would be found at:\r\n",
            "\r\n",
            "     https://www.gutenberg.org/1/0/2/3/10234\r\n",
            "\r\n",
            "or filename 24689 would be found at:\r\n",
            "     https://www.gutenberg.org/2/4/6/8/24689\r\n",
            "\r\n",
            "An alternative method of locating eBooks:\r\n",
            "     https://www.gutenberg.org/GUTINDEX.ALL\r\n",
            "\r\n"
          ]
        }
      ]
    },
    {
      "cell_type": "code",
      "metadata": {
        "colab": {
          "base_uri": "https://localhost:8080/"
        },
        "id": "beX9QByYRsJe",
        "outputId": "86724d4d-b756-47d4-a33d-cb45347f3e84"
      },
      "source": [
        "!head pg4367.txt"
      ],
      "execution_count": 3,
      "outputs": [
        {
          "output_type": "stream",
          "name": "stdout",
          "text": [
            "﻿The Project Gutenberg EBook of Personal Memoirs of U. S. Grant, Complete\r\n",
            "by Ulysses S. Grant\r\n",
            "\r\n",
            "This eBook is for the use of anyone anywhere at no cost and with\r\n",
            "almost no restrictions whatsoever.  You may copy it, give it away or\r\n",
            "re-use it under the terms of the Project Gutenberg License included\r\n",
            "with this eBook or online at www.gutenberg.org\r\n",
            "\r\n",
            "\r\n",
            "Title: Personal Memoirs of U. S. Grant, Complete\r\n"
          ]
        }
      ]
    }
  ]
}